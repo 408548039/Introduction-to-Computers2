{
  "nbformat": 4,
  "nbformat_minor": 0,
  "metadata": {
    "colab": {
      "provenance": [],
      "authorship_tag": "ABX9TyMC5xZB67OGay6VtbNXF7ju",
      "include_colab_link": true
    },
    "kernelspec": {
      "name": "python3",
      "display_name": "Python 3"
    },
    "language_info": {
      "name": "python"
    }
  },
  "cells": [
    {
      "cell_type": "markdown",
      "metadata": {
        "id": "view-in-github",
        "colab_type": "text"
      },
      "source": [
        "<a href=\"https://colab.research.google.com/github/408548039/Introduction-to-Computers2/blob/main/0515.ipynb\" target=\"_parent\"><img src=\"https://colab.research.google.com/assets/colab-badge.svg\" alt=\"Open In Colab\"/></a>"
      ]
    },
    {
      "cell_type": "code",
      "execution_count": 1,
      "metadata": {
        "colab": {
          "base_uri": "https://localhost:8080/"
        },
        "id": "qJhAypdWXhpo",
        "outputId": "45816eb7-22c4-4fa4-dd16-bab156326373"
      },
      "outputs": [
        {
          "output_type": "stream",
          "name": "stdout",
          "text": [
            "0515\n"
          ]
        }
      ],
      "source": [
        "print(\"0515\")"
      ]
    },
    {
      "cell_type": "code",
      "source": [
        "rain = input(\"今天會下雨嗎?: \")\n",
        "if rain == \"Y\" :\n",
        "  print('出門記得帶傘!')\n",
        "elif rain == \"y\" :\n",
        "  print('出門記得帶傘!')\n",
        "else:\n",
        "  print(\"不用帶傘\")"
      ],
      "metadata": {
        "colab": {
          "base_uri": "https://localhost:8080/"
        },
        "id": "h73KGQiP5eYN",
        "outputId": "29acc0b0-931c-4d7f-e8b7-c81ea071b4dd"
      },
      "execution_count": 213,
      "outputs": [
        {
          "output_type": "stream",
          "name": "stdout",
          "text": [
            "今天會下雨嗎?: y\n",
            "出門記得帶傘!\n"
          ]
        }
      ]
    },
    {
      "cell_type": "code",
      "source": [
        "rain = input(\"今天會下雨嗎?: \")\n",
        "if rain == \"Y\" :\n",
        "  print('出門記得帶傘!')\n",
        "elif rain == \"y\" :\n",
        "  print('出門記得帶傘!')\n",
        "else:\n",
        "  print(\"不用帶傘\")"
      ],
      "metadata": {
        "colab": {
          "base_uri": "https://localhost:8080/"
        },
        "id": "CTCV4quX8JZh",
        "outputId": "19794c32-e06d-4e2e-d9fe-a30d1ef446b7"
      },
      "execution_count": 215,
      "outputs": [
        {
          "output_type": "stream",
          "name": "stdout",
          "text": [
            "今天會下雨嗎?: F\n",
            "不用帶傘\n"
          ]
        }
      ]
    },
    {
      "cell_type": "code",
      "source": [
        "rain = input(\"今天會下雨嗎?: \")\n",
        "if rain == \"Y\" :\n",
        "  print('出門記得帶傘!')\n",
        "elif rain == \"y\" :\n",
        "  print('出門記得帶傘!')\n",
        "else:\n",
        "  print(\"不用帶傘\")"
      ],
      "metadata": {
        "colab": {
          "base_uri": "https://localhost:8080/"
        },
        "id": "FWemmpLj8FxR",
        "outputId": "e89fff75-a2c2-4756-8043-12ee325a701e"
      },
      "execution_count": 214,
      "outputs": [
        {
          "output_type": "stream",
          "name": "stdout",
          "text": [
            "今天會下雨嗎?: Y\n",
            "出門記得帶傘!\n"
          ]
        }
      ]
    },
    {
      "cell_type": "code",
      "source": [
        "體溫 = float(input(\"請輸入體溫:\"))\n",
        "if (體溫 >= 37.5):\n",
        "    print(\"體溫過高!\")\n",
        "elif (37.4 >= 體溫 >= 37):\n",
        "    print(\"體溫略高!\")\n",
        "elif (36.9 >= 體溫 >= 34):\n",
        "    print(\"體溫正常!\")\n",
        "elif (體溫 < 34):\n",
        "    print(\"體溫異常,請重新測量\")\n",
        "else:\n",
        "  print(\"體溫無異常\")"
      ],
      "metadata": {
        "colab": {
          "base_uri": "https://localhost:8080/"
        },
        "id": "gNOpeVfSt6T4",
        "outputId": "6d65bf6b-8aad-48ba-91ea-38405f9fbfc7"
      },
      "execution_count": 204,
      "outputs": [
        {
          "output_type": "stream",
          "name": "stdout",
          "text": [
            "請輸入體溫:0\n",
            "體溫異常,請重新測量\n"
          ]
        }
      ]
    },
    {
      "cell_type": "code",
      "source": [
        "score = int(input(\"請輸入成績: \"))\n",
        "if score >= 90:\n",
        "    print('請輸入成績: A')\n",
        "elif score >= 80:\n",
        "    print('請輸入成績: B')\n",
        "elif score >= 70:\n",
        "    print('請輸入成績: C')\n",
        "elif score >= 60:\n",
        "    print('請輸入成績: D')\n",
        "else: \n",
        "   if score < 60:\n",
        "    print('請輸入成績: E')"
      ],
      "metadata": {
        "colab": {
          "base_uri": "https://localhost:8080/"
        },
        "id": "ji0XpKsUbi8K",
        "outputId": "7eae8af2-9dd3-4fe1-d15a-8dac142f6f42"
      },
      "execution_count": 76,
      "outputs": [
        {
          "output_type": "stream",
          "name": "stdout",
          "text": [
            "請輸入成績: 90\n",
            "請輸入成績: A\n"
          ]
        }
      ]
    },
    {
      "cell_type": "code",
      "source": [
        "score = int(input(\"請輸入成績: \"))\n",
        "if score >= 90:\n",
        "    print('請輸入成績: A')\n",
        "elif score >= 80:\n",
        "    print('請輸入成績: B')\n",
        "elif score >= 70:\n",
        "    print('請輸入成績: C')\n",
        "elif score >= 60:\n",
        "    print('請輸入成績: D')\n",
        "else: \n",
        "  if score < 60:\n",
        "    print('請輸入成績: E')"
      ],
      "metadata": {
        "colab": {
          "base_uri": "https://localhost:8080/"
        },
        "id": "maZ6crLld_ND",
        "outputId": "6f15f203-afb8-4cba-d3c5-d7ea66d6fdae"
      },
      "execution_count": 40,
      "outputs": [
        {
          "output_type": "stream",
          "name": "stdout",
          "text": [
            "請輸入成績: 80\n",
            "請輸入成績: B\n"
          ]
        }
      ]
    },
    {
      "cell_type": "code",
      "source": [
        "score = int(input(\"請輸入成績: \"))\n",
        "if score >= 90:\n",
        "    print('請輸入成績: A')\n",
        "elif score >= 80:\n",
        "    print('請輸入成績: B')\n",
        "elif score >= 70:\n",
        "    print('請輸入成績: C')\n",
        "elif score >= 60:\n",
        "    print('請輸入成績: D')\n",
        "else: \n",
        "  if score < 60:\n",
        "    print('請輸入成績: E')"
      ],
      "metadata": {
        "colab": {
          "base_uri": "https://localhost:8080/"
        },
        "id": "TYsA95OseBt0",
        "outputId": "13c582f7-dcb9-4bbb-b920-e236915728d4"
      },
      "execution_count": 39,
      "outputs": [
        {
          "output_type": "stream",
          "name": "stdout",
          "text": [
            "請輸入成績: 50\n",
            "請輸入成績: E\n"
          ]
        }
      ]
    },
    {
      "cell_type": "code",
      "source": [
        "月份 = int(input(\"請輸入月份:\"))\n",
        "if 月份 == (3 or 4 or 5):\n",
        "    print(str(月份)+\" 月是春天!\")\n",
        "elif 月份 == (6 or 7 or 8):\n",
        "    print(str(月份)+\" 月是夏天!\")\n",
        "elif 月份 == (9 or 10 or 11):\n",
        "    print(str(月份)+\" 月是秋天!\")\n",
        "elif 月份 == (12 or 1 or 2):\n",
        "    print(str(月份)+\" 月是冬天!\")\n",
        "else:\n",
        "  print(\"月份不再範圍內!\")"
      ],
      "metadata": {
        "colab": {
          "base_uri": "https://localhost:8080/"
        },
        "id": "uIWLu28-fTot",
        "outputId": "2e2f6188-b481-4064-ad7c-03823692eaac"
      },
      "execution_count": 177,
      "outputs": [
        {
          "output_type": "stream",
          "name": "stdout",
          "text": [
            "請輸入月份:0\n",
            "月份不再範圍內!\n"
          ]
        }
      ]
    },
    {
      "cell_type": "code",
      "source": [
        "收入 = int(input(\"請輸入今年收入淨額: \"))\n",
        "if 收入 >= 2000000:\n",
        "    print('付稅金額*0.3:6000000.0元')\n",
        "elif 收入 >=1000000:\n",
        "    print('付稅金額*0.21:210000.0元')\n",
        "elif 收入 >=600000:\n",
        "    print('付稅金額*0.13:78000.0元')\n",
        "elif 收入 >=300000:\n",
        "    print('付稅金額*0.06:18000.0元')\n",
        "else:\n",
        "    print('付稅金額: 0元')"
      ],
      "metadata": {
        "colab": {
          "base_uri": "https://localhost:8080/"
        },
        "id": "8YE0tctNmgRt",
        "outputId": "55794b4f-e79d-4bed-a6e6-5aec12c25a02"
      },
      "execution_count": 122,
      "outputs": [
        {
          "output_type": "stream",
          "name": "stdout",
          "text": [
            "請輸入今年收入淨額: 100000\n",
            "付稅金額: 0元\n"
          ]
        }
      ]
    },
    {
      "cell_type": "code",
      "source": [
        "收入 = int(input(\"請輸入今年收入淨額: \"))\n",
        "if 收入 >= 2000000:\n",
        "    print('付稅金額*0.3:6000000.0元')\n",
        "elif 收入 >=1000000:\n",
        "    print('付稅金額*0.21:210000.0元')\n",
        "elif 收入 >=600000:\n",
        "    print('付稅金額*0.13:78000.0元')\n",
        "elif 收入 >=300000:\n",
        "    print('付稅金額*0.06:18000.0元')\n",
        "else:\n",
        "    print('付稅金額: 0元')"
      ],
      "metadata": {
        "colab": {
          "base_uri": "https://localhost:8080/"
        },
        "id": "aoes54SgqDjf",
        "outputId": "81329d79-fdad-49c9-ebe8-fde41aae69cc"
      },
      "execution_count": 121,
      "outputs": [
        {
          "output_type": "stream",
          "name": "stdout",
          "text": [
            "請輸入今年收入淨額: 2000000\n",
            "付稅金額*0.3:6000000.0元\n"
          ]
        }
      ]
    }
  ]
}